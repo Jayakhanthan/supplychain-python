{
 "cells": [
  {
   "cell_type": "markdown",
   "metadata": {},
   "source": [
    "# Introduction\n",
    "The purpose of this notebook is to solve supply chain problems with python. I'm a MIT Micro Masters in supply chain management student. While solving the MIT practise questions on excel I have decided to implement the models in Python as well thereby we can reuse and can save a lot of time in future. As well as building supply chain models in Python with come with additional data visualization features of python, this help us to automate lot of the work and solve complex problems very easily.\n",
    "\n",
    "### MIT Micromasters in Supply Chain Management\n",
    "This notebook uses the questions and models from the MIT Micromasters course materials, therefore all rights belongs to MIT. I have did my part on implemting the models in python and solved the practice and example problems.\n",
    "\n",
    "## Transportation Problem\n",
    "This notebook builds a solution for transportation problem with Pyomo library.\n"
   ]
  },
  {
   "cell_type": "code",
   "execution_count": 275,
   "metadata": {},
   "outputs": [],
   "source": [
    "import pandas as pd\n",
    "import numpy as np\n",
    "import networkx as nx\n",
    "import matplotlib.pyplot as plt\n",
    "from pyomo.environ import *"
   ]
  },
  {
   "cell_type": "code",
   "execution_count": 276,
   "metadata": {},
   "outputs": [],
   "source": [
    "Supply = {\n",
    "    'P1':100,\n",
    "    'P2':125\n",
    "}\n",
    "\n",
    "Demand = {\n",
    "    'R1':25,\n",
    "    'R2':95,\n",
    "    'R3':80\n",
    "}\n",
    "\n",
    "Distance = {\n",
    "    ('P1','R1') : 250,\n",
    "    ('P1','R2')  : 325,\n",
    "    ('P1','R3')   : 445,\n",
    "    ('P2','R1') : 275,\n",
    "    ('P2','R2')  : 260,\n",
    "    ('P2','R3')   : 460\n",
    "}\n",
    "\n",
    "UnitCost = 1"
   ]
  },
  {
   "cell_type": "code",
   "execution_count": 277,
   "metadata": {},
   "outputs": [],
   "source": [
    "model = ConcreteModel()\n",
    "model.dual = Suffix(direction=Suffix.IMPORT)\n",
    "\n",
    "model.i = Set(initialize=Supply.keys(), doc='Plants')\n",
    "model.j = Set(initialize=Demand.keys(), doc='Regions')\n",
    "\n",
    "model.d = Param(model.i, model.j, initialize=Distance, doc='Distance in miles')\n",
    "model.f = Param(initialize=UnitCost, doc='Freight cost in dollars per mile')\n",
    "\n",
    "# Function to calculate cost \n",
    "def c_init(model, i, j):\n",
    "  return model.f * model.d[i,j]\n",
    "\n",
    "model.c = Param(model.i, model.j, initialize=c_init, doc='Transport cost in dollar per case')\n",
    "\n",
    "# Initialize flow on arc as a variable\n",
    "model.x = Var(model.i, model.j, bounds=(0.0,None),domain = NonNegativeReals, doc='Shipment quantities')\n",
    "\n",
    "# Function to get objective function rule\n",
    "def objective_rule(model):\n",
    "  return sum(model.c[i,j]*model.x[i,j] for i in model.i for j in model.j)\n",
    "\n",
    "model.cost = Objective(rule=objective_rule, sense=minimize, doc='Total cost')\n",
    "\n",
    "#Define constraints\n",
    "def supply_rule(model, i):\n",
    "  return sum(model.x[i,j] for j in model.j) <= Supply[i]\n",
    "model.supply = Constraint(model.i, rule=supply_rule, doc='Observe supply limit at plant i')\n",
    "\n",
    "def demand_rule(model, j):\n",
    "  return sum(model.x[i,j] for i in model.i) >= Demand[j]  \n",
    "model.demand = Constraint(model.j, rule=demand_rule, doc='Satisfy demand at market j')\n",
    "\n",
    "#Solve the model with GLPK solver\n",
    "results = SolverFactory('glpk').solve(model)"
   ]
  },
  {
   "cell_type": "code",
   "execution_count": 278,
   "metadata": {},
   "outputs": [
    {
     "name": "stdout",
     "output_type": "stream",
     "text": [
      "Total Shipping Costs =  66625.0\n"
     ]
    }
   ],
   "source": [
    "r = []\n",
    "if 'ok' == str(results.Solver.status):\n",
    "    print(\"Total Shipping Costs = \",model.cost())\n",
    "    for i in model.i:\n",
    "        for j in model.j:\n",
    "            if model.x[i,j]() > 0:\n",
    "                r.append((i,j,model.x[i,j](),model.d[i,j],model.c[i,j]))\n",
    "                \n",
    "    result_df = pd.DataFrame(r, columns=['Plant','Region','Flow','Distance','Cost'])\n",
    "else:\n",
    "    print(\"No Valid Solution Found\")"
   ]
  },
  {
   "cell_type": "code",
   "execution_count": 279,
   "metadata": {},
   "outputs": [
    {
     "data": {
      "text/html": [
       "<div>\n",
       "<style scoped>\n",
       "    .dataframe tbody tr th:only-of-type {\n",
       "        vertical-align: middle;\n",
       "    }\n",
       "\n",
       "    .dataframe tbody tr th {\n",
       "        vertical-align: top;\n",
       "    }\n",
       "\n",
       "    .dataframe thead th {\n",
       "        text-align: right;\n",
       "    }\n",
       "</style>\n",
       "<table border=\"1\" class=\"dataframe\">\n",
       "  <thead>\n",
       "    <tr style=\"text-align: right;\">\n",
       "      <th></th>\n",
       "      <th>Plant</th>\n",
       "      <th>Region</th>\n",
       "      <th>Flow</th>\n",
       "      <th>Distance</th>\n",
       "      <th>Cost</th>\n",
       "    </tr>\n",
       "  </thead>\n",
       "  <tbody>\n",
       "    <tr>\n",
       "      <th>0</th>\n",
       "      <td>P2</td>\n",
       "      <td>R2</td>\n",
       "      <td>95.0</td>\n",
       "      <td>260</td>\n",
       "      <td>260</td>\n",
       "    </tr>\n",
       "    <tr>\n",
       "      <th>1</th>\n",
       "      <td>P2</td>\n",
       "      <td>R3</td>\n",
       "      <td>5.0</td>\n",
       "      <td>460</td>\n",
       "      <td>460</td>\n",
       "    </tr>\n",
       "    <tr>\n",
       "      <th>2</th>\n",
       "      <td>P1</td>\n",
       "      <td>R1</td>\n",
       "      <td>25.0</td>\n",
       "      <td>250</td>\n",
       "      <td>250</td>\n",
       "    </tr>\n",
       "    <tr>\n",
       "      <th>3</th>\n",
       "      <td>P1</td>\n",
       "      <td>R3</td>\n",
       "      <td>75.0</td>\n",
       "      <td>445</td>\n",
       "      <td>445</td>\n",
       "    </tr>\n",
       "  </tbody>\n",
       "</table>\n",
       "</div>"
      ],
      "text/plain": [
       "  Plant Region  Flow  Distance  Cost\n",
       "0    P2     R2  95.0       260   260\n",
       "1    P2     R3   5.0       460   460\n",
       "2    P1     R1  25.0       250   250\n",
       "3    P1     R3  75.0       445   445"
      ]
     },
     "execution_count": 279,
     "metadata": {},
     "output_type": "execute_result"
    }
   ],
   "source": [
    "result_df"
   ]
  },
  {
   "cell_type": "markdown",
   "metadata": {},
   "source": [
    "## Visualize network solution"
   ]
  },
  {
   "cell_type": "code",
   "execution_count": 285,
   "metadata": {},
   "outputs": [],
   "source": [
    "def draw_graph(flow, plants, regions):\n",
    "    # create networkx graph\n",
    "    G=nx.DiGraph()\n",
    "    \n",
    "    # add nodes\n",
    "    G.add_nodes_from(plants, s=\",\")    \n",
    "    G.add_nodes_from(regions, s=\"o\")\n",
    "    \n",
    "    plant_color = []\n",
    "    market_color = []\n",
    "    \n",
    "    for i in plants:\n",
    "        plant_color.append('orange')\n",
    "\n",
    "    for j in regions:\n",
    "        market_color.append('blue')\n",
    "    \n",
    "    # add edges\n",
    "    G.add_edges_from(flow)\n",
    "    graph_pos = nx.kamada_kawai_layout(G)\n",
    "    \n",
    "    nodeShapes = set((aShape[1][\"s\"] for aShape in G.nodes(data = True)))\n",
    "    \n",
    "    #For each node class...\n",
    "    for aShape in nodeShapes:\n",
    "        if aShape == ',':\n",
    "            color_map = plant_color\n",
    "        else:\n",
    "            color_map = market_color\n",
    "            \n",
    "        nx.draw_networkx_nodes(G,graph_pos,node_shape = aShape, nodelist = [sNode[0] for sNode in filter(lambda x: x[1][\"s\"]==aShape,G.nodes(data = True))],node_size=1000, node_color=color_map, alpha=0.3)\n",
    "    \n",
    "    nx.draw_networkx_edges(G, graph_pos, width=2, alpha=0.3, edge_color='green')\n",
    "    nx.draw_networkx_labels(G, graph_pos, font_size=12, font_family='sans-serif')\n",
    "    \n",
    "    plt.axis('off')\n",
    "    plt.show()"
   ]
  },
  {
   "cell_type": "code",
   "execution_count": 286,
   "metadata": {},
   "outputs": [],
   "source": [
    "flow = result_df[['Plant','Region']].values.tolist()\n",
    "plants = result_df['Plant'].drop_duplicates().values.tolist()\n",
    "regions = result_df['Region'].drop_duplicates().values.tolist() "
   ]
  },
  {
   "cell_type": "code",
   "execution_count": 287,
   "metadata": {},
   "outputs": [
    {
     "data": {
      "image/png": "[encoded data removed]",
      "text/plain": [
       "<Figure size 432x288 with 1 Axes>"
      ]
     },
     "metadata": {
      "needs_background": "light"
     },
     "output_type": "display_data"
    }
   ],
   "source": [
    "draw_graph(flow,plants,regions)"
   ]
  },
  {
   "cell_type": "markdown",
   "metadata": {},
   "source": [
    "## Sensitivity Analysis\n",
    "### Analysis by plant"
   ]
  },
  {
   "cell_type": "code",
   "execution_count": 283,
   "metadata": {},
   "outputs": [
    {
     "data": {
      "text/html": [
       "<div>\n",
       "<style scoped>\n",
       "    .dataframe tbody tr th:only-of-type {\n",
       "        vertical-align: middle;\n",
       "    }\n",
       "\n",
       "    .dataframe tbody tr th {\n",
       "        vertical-align: top;\n",
       "    }\n",
       "\n",
       "    .dataframe thead th {\n",
       "        text-align: right;\n",
       "    }\n",
       "</style>\n",
       "<table border=\"1\" class=\"dataframe\">\n",
       "  <thead>\n",
       "    <tr style=\"text-align: right;\">\n",
       "      <th></th>\n",
       "      <th>Plant</th>\n",
       "      <th>Capacity</th>\n",
       "      <th>Utilized</th>\n",
       "      <th>Marginal_cost</th>\n",
       "    </tr>\n",
       "  </thead>\n",
       "  <tbody>\n",
       "    <tr>\n",
       "      <th>0</th>\n",
       "      <td>P2</td>\n",
       "      <td>125</td>\n",
       "      <td>100.0</td>\n",
       "      <td>0.0</td>\n",
       "    </tr>\n",
       "    <tr>\n",
       "      <th>1</th>\n",
       "      <td>P1</td>\n",
       "      <td>100</td>\n",
       "      <td>100.0</td>\n",
       "      <td>-15.0</td>\n",
       "    </tr>\n",
       "  </tbody>\n",
       "</table>\n",
       "</div>"
      ],
      "text/plain": [
       "  Plant  Capacity  Utilized  Marginal_cost\n",
       "0    P2       125     100.0            0.0\n",
       "1    P1       100     100.0          -15.0"
      ]
     },
     "execution_count": 283,
     "metadata": {},
     "output_type": "execute_result"
    }
   ],
   "source": [
    "s = []\n",
    "for i in model.i:\n",
    "    s.append((i,Supply[i],model.supply[i](),model.dual[model.supply[i]]))\n",
    "    \n",
    "supply_sensitivity = pd.DataFrame(s, columns=['Plant','Capacity','Utilized','Marginal_cost'])\n",
    "supply_sensitivity"
   ]
  },
  {
   "cell_type": "markdown",
   "metadata": {},
   "source": [
    "### Analysis by market"
   ]
  },
  {
   "cell_type": "code",
   "execution_count": 284,
   "metadata": {},
   "outputs": [
    {
     "data": {
      "text/html": [
       "<div>\n",
       "<style scoped>\n",
       "    .dataframe tbody tr th:only-of-type {\n",
       "        vertical-align: middle;\n",
       "    }\n",
       "\n",
       "    .dataframe tbody tr th {\n",
       "        vertical-align: top;\n",
       "    }\n",
       "\n",
       "    .dataframe thead th {\n",
       "        text-align: right;\n",
       "    }\n",
       "</style>\n",
       "<table border=\"1\" class=\"dataframe\">\n",
       "  <thead>\n",
       "    <tr style=\"text-align: right;\">\n",
       "      <th></th>\n",
       "      <th>Region</th>\n",
       "      <th>Demand</th>\n",
       "      <th>Fullfilled</th>\n",
       "      <th>Marginal_cost</th>\n",
       "    </tr>\n",
       "  </thead>\n",
       "  <tbody>\n",
       "    <tr>\n",
       "      <th>0</th>\n",
       "      <td>R1</td>\n",
       "      <td>25</td>\n",
       "      <td>25.0</td>\n",
       "      <td>265.0</td>\n",
       "    </tr>\n",
       "    <tr>\n",
       "      <th>1</th>\n",
       "      <td>R2</td>\n",
       "      <td>95</td>\n",
       "      <td>95.0</td>\n",
       "      <td>260.0</td>\n",
       "    </tr>\n",
       "    <tr>\n",
       "      <th>2</th>\n",
       "      <td>R3</td>\n",
       "      <td>80</td>\n",
       "      <td>80.0</td>\n",
       "      <td>460.0</td>\n",
       "    </tr>\n",
       "  </tbody>\n",
       "</table>\n",
       "</div>"
      ],
      "text/plain": [
       "  Region  Demand  Fullfilled  Marginal_cost\n",
       "0     R1      25        25.0          265.0\n",
       "1     R2      95        95.0          260.0\n",
       "2     R3      80        80.0          460.0"
      ]
     },
     "execution_count": 284,
     "metadata": {},
     "output_type": "execute_result"
    }
   ],
   "source": [
    "r = []\n",
    "for j in model.j:\n",
    "    r.append((j,Demand[j],model.demand[j](),model.dual[model.demand[j]]))\n",
    "    \n",
    "supply_sensitivity = pd.DataFrame(r, columns=['Region','Demand','Fullfilled','Marginal_cost'])\n",
    "supply_sensitivity"
   ]
  },
  {
   "cell_type": "code",
   "execution_count": null,
   "metadata": {},
   "outputs": [],
   "source": []
  }
 ],
 "metadata": {
  "kernelspec": {
   "display_name": "Python 3",
   "language": "python",
   "name": "python3"
  },
  "language_info": {
   "codemirror_mode": {
    "name": "ipython",
    "version": 3
   },
   "file_extension": ".py",
   "mimetype": "text/x-python",
   "name": "python",
   "nbconvert_exporter": "python",
   "pygments_lexer": "ipython3",
   "version": "3.7.1"
  }
 },
 "nbformat": 4,
 "nbformat_minor": 2
}
