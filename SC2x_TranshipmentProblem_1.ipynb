{
 "cells": [
  {
   "cell_type": "markdown",
   "metadata": {},
   "source": [
    "### MIT Micromasters in Supply Chain Management\n",
    "This notebook uses the questions and models from the MIT Micromasters course materials, therefore all rights belongs to MIT. I have implemented the models in python.\n",
    "For more details refer to https://www.edx.org/course/supply-chain-design\n",
    "\n",
    "## Transhipment Problem\n",
    "Transhipment problem is a subgroup of transportation problem, where transhipment.Here also we are trying to minimze the transport cost of distributing products from number of sources to destinations/markets through intermediate nodes.\n",
    "This notebook builds a solution for transhipment problem with Pyomo library.\n"
   ]
  },
  {
   "cell_type": "code",
   "execution_count": 1,
   "metadata": {},
   "outputs": [],
   "source": [
    "import pandas as pd\n",
    "import numpy as np\n",
    "import networkx as nx\n",
    "import matplotlib.pyplot as plt\n",
    "from pyomo.environ import *"
   ]
  },
  {
   "cell_type": "code",
   "execution_count": 187,
   "metadata": {},
   "outputs": [],
   "source": [
    "Supply = {      # Supply nodes\n",
    "    'P1':100,\n",
    "    'P2':125\n",
    "}\n",
    "\n",
    "Demand = {      # Demand nodes\n",
    "    'R1':25,\n",
    "    'R2':95,\n",
    "    'R3':80\n",
    "}\n",
    "\n",
    "Centers = ['C1','C2']  # Transhipment nodes\n",
    "\n",
    "Inbound = {\n",
    "    ('P1','C1') : 190,\n",
    "    ('P1','C2')  : 210,\n",
    "    ('P2','C1') : 185,\n",
    "    ('P2','C2')  : 105,\n",
    "}\n",
    "\n",
    "Outbound = {\n",
    "    ('C1','R1') : 175,\n",
    "    ('C1','R2')  : 180,\n",
    "    ('C1','R3')   : 165,\n",
    "    ('C2','R1') : 235,\n",
    "    ('C2','R2')  : 130,\n",
    "    ('C2','R3')   : 145\n",
    "}\n",
    "\n",
    "Distance = {\n",
    "    ('P1','R1') : 250,\n",
    "    ('P1','R2')  : 325,\n",
    "    ('P1','R3')   : 445,\n",
    "    ('P2','R1') : 275,\n",
    "    ('P2','R2')  : 260,\n",
    "    ('P2','R3')   : 460\n",
    "}\n",
    "\n",
    "\n",
    "UnitCost = 1"
   ]
  },
  {
   "cell_type": "code",
   "execution_count": 194,
   "metadata": {},
   "outputs": [],
   "source": [
    "model = ConcreteModel()\n",
    "model.dual = Suffix(direction=Suffix.IMPORT)\n",
    "\n",
    "model.i = Set(initialize=Supply.keys(), doc='Plants')\n",
    "model.j = Set(initialize=Demand.keys(), doc='Regions')\n",
    "model.k = Set(initialize=Centers, doc='Transhipment')\n",
    "\n",
    "model.di = Param(model.i, model.k, initialize=Inbound, doc='Inbound distance in miles')\n",
    "model.do = Param(model.k, model.j, initialize=Outbound, doc='Outbounf distance in miles')\n",
    "model.f = Param(initialize=UnitCost, doc='Freight cost in dollars per mile')\n",
    "\n",
    "# Function to calculate inbound cost \n",
    "def c_init_inbound(model, i, k):\n",
    "  return model.f * model.di[i,k]\n",
    "\n",
    "model.ci = Param(model.i, model.k, initialize=c_init_inbound, doc='Inbound transport cost in dollar per case')\n",
    "\n",
    "# Function to calculate outbound cost \n",
    "def c_init_outbound(model, k, j):\n",
    "  return model.f * model.do[k,j]\n",
    "\n",
    "model.co = Param(model.k, model.j, initialize=c_init_outbound, doc='Outbound transport cost in dollar per case')\n",
    "\n",
    "# Initialize inbound flow on arc as a variable\n",
    "model.xi = Var(model.i, model.k, bounds=(0.0,None),domain = NonNegativeReals, doc='Inbound shipment quantities')\n",
    "\n",
    "# Initialize outbound flow on arc as a variable\n",
    "model.xo = Var(model.k, model.j, bounds=(0.0,None),domain = NonNegativeReals, doc='Outbound shipment quantities')\n",
    "\n",
    "# Function to get objective function rule\n",
    "def objective_rule(model):\n",
    "  return sum(model.ci[i,k]*model.xi[i,k] for i in model.i for k in model.k) + sum(model.co[k,j]*model.xo[k,j] for k in model.k for j in model.j)\n",
    "\n",
    "model.cost = Objective(rule=objective_rule, sense=minimize, doc='Total cost')\n",
    "\n",
    "#Define constraints\n",
    "def supply_rule(model, i):\n",
    "  return sum(model.xi[i,k] for k in model.k) <= Supply[i]\n",
    "model.supply = Constraint(model.i, rule=supply_rule, doc='Observe supply limit at plant i')\n",
    "\n",
    "def demand_rule(model, j):\n",
    "  return sum(model.xo[k,j] for k in model.k) >= Demand[j]  \n",
    "model.demand = Constraint(model.j, rule=demand_rule, doc='Satisfy demand at market j')\n",
    "\n",
    "def flow_balance_rule(model, k):\n",
    "  return sum(model.xi[i,k] for i in model.i) == sum(model.xo[k,j] for j in model.j) \n",
    "model.balanceflow = Constraint(model.k, rule=flow_balance_rule, doc='Balance flow at intermediate nodes k')\n",
    "\n",
    "#Solve the model with GLPK solver\n",
    "results = SolverFactory('glpk').solve(model)\n"
   ]
  },
  {
   "cell_type": "code",
   "execution_count": 195,
   "metadata": {},
   "outputs": [
    {
     "name": "stdout",
     "output_type": "stream",
     "text": [
      "Total Shipping Costs =  56700.0\n"
     ]
    }
   ],
   "source": [
    "ri = []\n",
    "ro = []\n",
    "\n",
    "if 'ok' == str(results.Solver.status):\n",
    "    print(\"Total Shipping Costs = \",model.cost())\n",
    "    for i in model.i:\n",
    "        for k in model.k:\n",
    "                if model.xi[i,k]() > 0:\n",
    "                    ri.append((i,k,model.xi[i,k](),model.di[i,k],model.ci[i,k]))\n",
    "                \n",
    "    result_df_inbound = pd.DataFrame(ri, columns=['Origin','Destination','Flow','Distance','Cost'])\n",
    "    \n",
    "    for k in model.k:\n",
    "        for j in model.j:\n",
    "                if model.xo[k,j]() > 0:\n",
    "                    ro.append((k,j,model.xo[k,j](),model.do[k,j],model.co[k,j]))\n",
    "                \n",
    "    result_df_outbound = pd.DataFrame(ro, columns=['Origin','Destination','Flow','Distance','Cost'])\n",
    "    \n",
    "    result_df = pd.concat([result_df_inbound,result_df_outbound])\n",
    "else:\n",
    "    print(\"No Valid Solution Found\")"
   ]
  },
  {
   "cell_type": "markdown",
   "metadata": {},
   "source": [
    "### Optimized resuts"
   ]
  },
  {
   "cell_type": "code",
   "execution_count": 196,
   "metadata": {},
   "outputs": [
    {
     "data": {
      "text/html": [
       "<div>\n",
       "<style scoped>\n",
       "    .dataframe tbody tr th:only-of-type {\n",
       "        vertical-align: middle;\n",
       "    }\n",
       "\n",
       "    .dataframe tbody tr th {\n",
       "        vertical-align: top;\n",
       "    }\n",
       "\n",
       "    .dataframe thead th {\n",
       "        text-align: right;\n",
       "    }\n",
       "</style>\n",
       "<table border=\"1\" class=\"dataframe\">\n",
       "  <thead>\n",
       "    <tr style=\"text-align: right;\">\n",
       "      <th></th>\n",
       "      <th>Origin</th>\n",
       "      <th>Destination</th>\n",
       "      <th>Flow</th>\n",
       "      <th>Distance</th>\n",
       "      <th>Cost</th>\n",
       "    </tr>\n",
       "  </thead>\n",
       "  <tbody>\n",
       "    <tr>\n",
       "      <th>0</th>\n",
       "      <td>P2</td>\n",
       "      <td>C2</td>\n",
       "      <td>125.0</td>\n",
       "      <td>105</td>\n",
       "      <td>105</td>\n",
       "    </tr>\n",
       "    <tr>\n",
       "      <th>1</th>\n",
       "      <td>P1</td>\n",
       "      <td>C1</td>\n",
       "      <td>75.0</td>\n",
       "      <td>190</td>\n",
       "      <td>190</td>\n",
       "    </tr>\n",
       "    <tr>\n",
       "      <th>0</th>\n",
       "      <td>C2</td>\n",
       "      <td>R3</td>\n",
       "      <td>30.0</td>\n",
       "      <td>145</td>\n",
       "      <td>145</td>\n",
       "    </tr>\n",
       "    <tr>\n",
       "      <th>1</th>\n",
       "      <td>C2</td>\n",
       "      <td>R2</td>\n",
       "      <td>95.0</td>\n",
       "      <td>130</td>\n",
       "      <td>130</td>\n",
       "    </tr>\n",
       "    <tr>\n",
       "      <th>2</th>\n",
       "      <td>C1</td>\n",
       "      <td>R1</td>\n",
       "      <td>25.0</td>\n",
       "      <td>175</td>\n",
       "      <td>175</td>\n",
       "    </tr>\n",
       "    <tr>\n",
       "      <th>3</th>\n",
       "      <td>C1</td>\n",
       "      <td>R3</td>\n",
       "      <td>50.0</td>\n",
       "      <td>165</td>\n",
       "      <td>165</td>\n",
       "    </tr>\n",
       "  </tbody>\n",
       "</table>\n",
       "</div>"
      ],
      "text/plain": [
       "  Origin Destination   Flow  Distance  Cost\n",
       "0     P2          C2  125.0       105   105\n",
       "1     P1          C1   75.0       190   190\n",
       "0     C2          R3   30.0       145   145\n",
       "1     C2          R2   95.0       130   130\n",
       "2     C1          R1   25.0       175   175\n",
       "3     C1          R3   50.0       165   165"
      ]
     },
     "execution_count": 196,
     "metadata": {},
     "output_type": "execute_result"
    }
   ],
   "source": [
    "result_df"
   ]
  },
  {
   "cell_type": "markdown",
   "metadata": {},
   "source": [
    "## Visualize network solution"
   ]
  },
  {
   "cell_type": "code",
   "execution_count": 197,
   "metadata": {},
   "outputs": [],
   "source": [
    "def draw_graph(flow, plants, regions, dcs,distance):\n",
    "    # create networkx graph\n",
    "    G=nx.DiGraph()\n",
    "    \n",
    "    # add nodes\n",
    "    G.add_nodes_from(regions, s=\"o\")\n",
    "    G.add_nodes_from(dcs, s=\"^\")\n",
    "    G.add_nodes_from(plants, s=\",\")    \n",
    "    \n",
    "    plant_color = []\n",
    "    market_color = []\n",
    "    dc_color = []\n",
    "    \n",
    "    for i in plants:\n",
    "        plant_color.append('orange')\n",
    "\n",
    "    for j in regions:\n",
    "        market_color.append('blue')\n",
    "        \n",
    "    for k in dcs:\n",
    "        dc_color.append('red')\n",
    "    \n",
    "    # add edges\n",
    "    G.add_edges_from(flow)\n",
    "    graph_pos = nx.kamada_kawai_layout(G,dist=distance)\n",
    "    \n",
    "    nodeShapes = set((aShape[1][\"s\"] for aShape in G.nodes(data = True)))\n",
    "    \n",
    "    #For each node class...\n",
    "    for aShape in nodeShapes:\n",
    "        if aShape == ',':\n",
    "            color_map = plant_color\n",
    "        elif aShape == 'o':\n",
    "            color_map = market_color\n",
    "        else:\n",
    "            color_map = dc_color\n",
    "            \n",
    "        nx.draw_networkx_nodes(G,graph_pos,node_shape = aShape, nodelist = [sNode[0] for sNode in filter(lambda x: x[1][\"s\"]==aShape,G.nodes(data = True))],node_size=1000, node_color=color_map, alpha=0.3)\n",
    "    \n",
    "    nx.draw_networkx_edges(G, graph_pos, width=2, alpha=0.3, edge_color='green')\n",
    "    nx.draw_networkx_labels(G, graph_pos, font_size=12, font_family='sans-serif')\n",
    "    \n",
    "    plt.axis('off')\n",
    "    plt.show()"
   ]
  },
  {
   "cell_type": "code",
   "execution_count": 198,
   "metadata": {},
   "outputs": [],
   "source": [
    "flow = result_df[['Origin','Destination']].values.tolist()\n",
    "plants = Supply.keys()\n",
    "regions = Demand.keys()\n",
    "dcs = Centers\n",
    "distance = result_df['Distance'].to_dict()"
   ]
  },
  {
   "cell_type": "code",
   "execution_count": 199,
   "metadata": {},
   "outputs": [
    {
     "data": {
      "image/png": "[encoded data removed]",
      "text/plain": [
       "<Figure size 432x288 with 1 Axes>"
      ]
     },
     "metadata": {
      "needs_background": "light"
     },
     "output_type": "display_data"
    }
   ],
   "source": [
    "draw_graph(flow,plants,regions,dcs,distance)"
   ]
  },
  {
   "cell_type": "markdown",
   "metadata": {},
   "source": [
    "## Sensitivity Analysis\n",
    "### Analysis by plant"
   ]
  },
  {
   "cell_type": "code",
   "execution_count": 200,
   "metadata": {},
   "outputs": [
    {
     "data": {
      "text/html": [
       "<div>\n",
       "<style scoped>\n",
       "    .dataframe tbody tr th:only-of-type {\n",
       "        vertical-align: middle;\n",
       "    }\n",
       "\n",
       "    .dataframe tbody tr th {\n",
       "        vertical-align: top;\n",
       "    }\n",
       "\n",
       "    .dataframe thead th {\n",
       "        text-align: right;\n",
       "    }\n",
       "</style>\n",
       "<table border=\"1\" class=\"dataframe\">\n",
       "  <thead>\n",
       "    <tr style=\"text-align: right;\">\n",
       "      <th></th>\n",
       "      <th>Plant</th>\n",
       "      <th>Capacity</th>\n",
       "      <th>Utilized</th>\n",
       "      <th>Marginal_cost</th>\n",
       "    </tr>\n",
       "  </thead>\n",
       "  <tbody>\n",
       "    <tr>\n",
       "      <th>0</th>\n",
       "      <td>P2</td>\n",
       "      <td>125</td>\n",
       "      <td>125.0</td>\n",
       "      <td>-105.0</td>\n",
       "    </tr>\n",
       "    <tr>\n",
       "      <th>1</th>\n",
       "      <td>P1</td>\n",
       "      <td>100</td>\n",
       "      <td>75.0</td>\n",
       "      <td>0.0</td>\n",
       "    </tr>\n",
       "  </tbody>\n",
       "</table>\n",
       "</div>"
      ],
      "text/plain": [
       "  Plant  Capacity  Utilized  Marginal_cost\n",
       "0    P2       125     125.0         -105.0\n",
       "1    P1       100      75.0            0.0"
      ]
     },
     "execution_count": 200,
     "metadata": {},
     "output_type": "execute_result"
    }
   ],
   "source": [
    "s = []\n",
    "for i in model.i:\n",
    "    s.append((i,Supply[i],model.supply[i](),model.dual[model.supply[i]]))\n",
    "    \n",
    "supply_sensitivity = pd.DataFrame(s, columns=['Plant','Capacity','Utilized','Marginal_cost'])\n",
    "supply_sensitivity"
   ]
  },
  {
   "cell_type": "markdown",
   "metadata": {},
   "source": [
    "### Analysis by market"
   ]
  },
  {
   "cell_type": "code",
   "execution_count": 201,
   "metadata": {},
   "outputs": [
    {
     "data": {
      "text/html": [
       "<div>\n",
       "<style scoped>\n",
       "    .dataframe tbody tr th:only-of-type {\n",
       "        vertical-align: middle;\n",
       "    }\n",
       "\n",
       "    .dataframe tbody tr th {\n",
       "        vertical-align: top;\n",
       "    }\n",
       "\n",
       "    .dataframe thead th {\n",
       "        text-align: right;\n",
       "    }\n",
       "</style>\n",
       "<table border=\"1\" class=\"dataframe\">\n",
       "  <thead>\n",
       "    <tr style=\"text-align: right;\">\n",
       "      <th></th>\n",
       "      <th>Region</th>\n",
       "      <th>Demand</th>\n",
       "      <th>Fullfiled</th>\n",
       "      <th>Marginal_cost</th>\n",
       "    </tr>\n",
       "  </thead>\n",
       "  <tbody>\n",
       "    <tr>\n",
       "      <th>0</th>\n",
       "      <td>R1</td>\n",
       "      <td>25</td>\n",
       "      <td>25.0</td>\n",
       "      <td>365.0</td>\n",
       "    </tr>\n",
       "    <tr>\n",
       "      <th>1</th>\n",
       "      <td>R3</td>\n",
       "      <td>80</td>\n",
       "      <td>80.0</td>\n",
       "      <td>355.0</td>\n",
       "    </tr>\n",
       "    <tr>\n",
       "      <th>2</th>\n",
       "      <td>R2</td>\n",
       "      <td>95</td>\n",
       "      <td>95.0</td>\n",
       "      <td>340.0</td>\n",
       "    </tr>\n",
       "  </tbody>\n",
       "</table>\n",
       "</div>"
      ],
      "text/plain": [
       "  Region  Demand  Fullfiled  Marginal_cost\n",
       "0     R1      25       25.0          365.0\n",
       "1     R3      80       80.0          355.0\n",
       "2     R2      95       95.0          340.0"
      ]
     },
     "execution_count": 201,
     "metadata": {},
     "output_type": "execute_result"
    }
   ],
   "source": [
    "d = []\n",
    "for j in model.j:\n",
    "    d.append((j,Demand[j],model.demand[j](),model.dual[model.demand[j]]))\n",
    "    \n",
    "supply_sensitivity = pd.DataFrame(d, columns=['Region','Demand','Fullfiled','Marginal_cost'])\n",
    "supply_sensitivity"
   ]
  },
  {
   "cell_type": "code",
   "execution_count": null,
   "metadata": {},
   "outputs": [],
   "source": []
  }
 ],
 "metadata": {
  "kernelspec": {
   "display_name": "Python 3",
   "language": "python",
   "name": "python3"
  },
  "language_info": {
   "codemirror_mode": {
    "name": "ipython",
    "version": 3
   },
   "file_extension": ".py",
   "mimetype": "text/x-python",
   "name": "python",
   "nbconvert_exporter": "python",
   "pygments_lexer": "ipython3",
   "version": "3.7.1"
  }
 },
 "nbformat": 4,
 "nbformat_minor": 2
}
